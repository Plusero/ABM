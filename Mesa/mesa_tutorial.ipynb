{
 "cells": [
  {
   "cell_type": "code",
   "execution_count": 12,
   "id": "f009aff2-8a52-419f-acef-2d2576ef4b41",
   "metadata": {},
   "outputs": [
    {
     "ename": "SyntaxError",
     "evalue": "invalid syntax (ModularVisualization.py, line 367)",
     "output_type": "error",
     "traceback": [
      "Traceback \u001b[1;36m(most recent call last)\u001b[0m:\n",
      "\u001b[0m  File \u001b[0;32mc:\\ProgramData\\anaconda3\\Lib\\site-packages\\IPython\\core\\interactiveshell.py:3526\u001b[0m in \u001b[0;35mrun_code\u001b[0m\n    exec(code_obj, self.user_global_ns, self.user_ns)\u001b[0m\n",
      "\u001b[0m  Cell \u001b[0;32mIn[12], line 8\u001b[0m\n    import mesa\u001b[0m\n",
      "\u001b[0m  File \u001b[0;32m~\\AppData\\Roaming\\Python\\Python311\\site-packages\\mesa\\__init__.py:10\u001b[0m\n    import mesa.visualization as visualization\u001b[0m\n",
      "\u001b[1;36m  File \u001b[1;32m~\\AppData\\Roaming\\Python\\Python311\\site-packages\\mesa\\visualization\\__init__.py:4\u001b[1;36m\n\u001b[1;33m    from mesa_viz_tornado.ModularVisualization import *  # noqa\u001b[1;36m\n",
      "\u001b[1;36m  File \u001b[1;32m~\\AppData\\Roaming\\Python\\Python311\\site-packages\\mesa_viz_tornado\\ModularVisualization.py:367\u001b[1;36m\u001b[0m\n\u001b[1;33m    x``\u001b[0m\n\u001b[1;37m     ^\u001b[0m\n\u001b[1;31mSyntaxError\u001b[0m\u001b[1;31m:\u001b[0m invalid syntax\n"
     ]
    }
   ],
   "source": [
    "# Run this block of code with ctrl + Enter to import the required packages: \n",
    "## mesa, \n",
    "## numpy for mathematical functions,\n",
    "## pandas for data manipulation,\n",
    "## JupyterViz for the model visualization,\n",
    "## and seaborn and matplotplib for the plots\n",
    "\n",
    "import mesa\n",
    "import numpy as np\n",
    "import pandas as pd\n",
    "from mesa.experimental import JupyterViz\n",
    "import seaborn as sns\n",
    "import matplotlib.pyplot as plt\n",
    "# to be able to show plots in Jupyter notebook\n",
    "%matplotlib inline"
   ]
  },
  {
   "cell_type": "code",
   "execution_count": 10,
   "id": "75f77441",
   "metadata": {},
   "outputs": [],
   "source": [
    "def compute_gini(model):\n",
    "    agent_wealths = [agent.wealth for agent in model.schedule.agents]\n",
    "    x = sorted(agent_wealths)\n",
    "    N = model.num_agents\n",
    "    B = sum(xi * (N - i) for i, xi in enumerate(x)) / (N * sum(x))\n",
    "    return 1 + (1 / N) - 2 * B"
   ]
  },
  {
   "cell_type": "markdown",
   "id": "8c404452-4635-400d-9776-b7a68f454236",
   "metadata": {},
   "source": [
    "# Mesa Tutorial\n",
    "The goal of this tutorial is to create and visualize the Boltzmann wealth distribution model, which shows how inequality can emerge from simple trading rules. Below two classes are defined, one for the agent, the other for the model. Now, the agents don't interact yet but just print their `unique_id` (\"who\" attribute in NetLogo).\n",
    "\n",
    "In a Jupyter notebook, you can execute blocks of code in any order you want, and refer to classes, methods, and variables of one block of code from another. So if an exercise asks you to adapt the `MoneyAgent` and `MoneyModel` classes below, you can just change them within those blocks of code and re-run them using ctrl + Enter."
   ]
  },
  {
   "cell_type": "code",
   "execution_count": null,
   "id": "6edb5d52-f30f-4670-a0c7-027ce40f9adb",
   "metadata": {},
   "outputs": [],
   "source": [
    "# Agent class\n",
    "# Use ctrl + Enter to run this block of code and define the MoneyAgent class!\n",
    "class MoneyAgent(mesa.Agent):\n",
    "    \"\"\"An agent with fixed initial wealth.\"\"\"\n",
    "\n",
    "    # This is where we initialize the agent class \n",
    "    # (What you would do in the setup procedure in NetLogo)\n",
    "    def __init__(self, unique_id, model):\n",
    "        # Pass the parameters to the parent (mesa.Agent) class.\n",
    "        super().__init__(unique_id, model)\n",
    "\n",
    "        # Create the agent's variable and set the initial values.\n",
    "        self.wealth = 1\n",
    "\n",
    "    def step(self):\n",
    "        self.move()\n",
    "        if self.wealth != 0:\n",
    "           self.give_money()\n",
    "        # The agent's step will go here.\n",
    "        # For demonstration purposes we will print the agent's unique_id\n",
    "        # print(f\"Hi, I am an agent, you can call me {str(self.unique_id)}, my wealth is {self.wealth}.\")\n",
    "        #n Python, the f before a string is used to create an f-string, which stands for formatted string. It allows you to embed expressions inside string literals by using curly braces {}.\n",
    "    def move(self):\n",
    "            new_position=self.random.choice(self.model.grid.get_neighborhood(self.pos, moore = True, include_center = False))\n",
    "            self.model.grid.move_agent(self, new_position)\n",
    "    def give_money(self):\n",
    "        cellmates = self.model.grid.get_cell_list_contents([self.pos])\n",
    "        cellmates.pop(cellmates.index(self))\n",
    "        if len(cellmates) > 0:\n",
    "            other = self.random.choice(cellmates)\n",
    "            other.wealth += 1\n",
    "            self.wealth -= 1    "
   ]
  },
  {
   "cell_type": "code",
   "execution_count": null,
   "id": "8bf6888f-a5ca-49fd-ade4-8c8e35a37fba",
   "metadata": {},
   "outputs": [],
   "source": [
    "# Model class\n",
    "# Use ctrl + Enter to run this block of code\n",
    "class MoneyModel(mesa.Model):\n",
    "    \"\"\"A model with some number of agents.\"\"\"\n",
    "\n",
    "    # This is where we initialize the model class \n",
    "    # (What you would do in the setup procedure in NetLogo)\n",
    "    def __init__(self, N,width, height):\n",
    "        # Pass the parameters to the parent (mesa.Model) class.\n",
    "        super().__init__()\n",
    "        self.grid=mesa.space.MultiGrid(width, height, torus = True)\n",
    "        self.num_agents = N\n",
    "        self.datacollector = mesa.DataCollector(\n",
    "        model_reporters = {\"Gini\": compute_gini}, \n",
    "        agent_reporters = {\"Wealth\": \"wealth\"})\n",
    "\n",
    "        # Create scheduler and assign it to the model, defining the which agents will be in the steps\n",
    "        self.schedule = mesa.time.SimultaneousActivation(self) \n",
    "        #note that it is \"random\" activation\n",
    "        #you can  use SimultaneousActivation, StagedActivation, or RandomActivation\n",
    "        # Create agents\n",
    "        for i in range(self.num_agents):\n",
    "            a = MoneyAgent(i, self,)\n",
    "            # Add the agent to the scheduler\n",
    "            self.schedule.add(a)\n",
    "            x = self.random.randrange(width)\n",
    "            y = self.random.randrange(height)\n",
    "            self.grid.place_agent(a, (x,y))\n",
    "\n",
    "    def step(self):\n",
    "        \"\"\"Advance the model by one step.\"\"\"\n",
    "        self.datacollector.collect(self)\n",
    "        # Now this will call the step method of each agent\n",
    "        self.schedule.step()"
   ]
  },
  {
   "cell_type": "markdown",
   "id": "50b8c507-7549-4e4a-945d-b2dc053c2581",
   "metadata": {},
   "source": [
    "If you run the model now, all agents should report their `unique_id` in a random order. Re-run the `step` method and the order should change."
   ]
  },
  {
   "cell_type": "code",
   "execution_count": null,
   "id": "5b360192-4b25-4624-aa20-a753cccd6d2a",
   "metadata": {
    "notebookRunGroups": {
     "groupValue": ""
    }
   },
   "outputs": [],
   "source": [
    "# Run the model with 10 agents for 1 step\n",
    "# starter_model = MoneyModel(10)\n",
    "# starter_model.step()"
   ]
  },
  {
   "cell_type": "markdown",
   "id": "5c3e7bda-5bf7-425b-a2ec-daaa8b7ac9ea",
   "metadata": {},
   "source": [
    "**Exercise 1**\n",
    "See if you can adapt the `MoneyAgent` class so that the agents print their `unique_id` AND `wealth` at every timestep."
   ]
  },
  {
   "cell_type": "markdown",
   "id": "33f48d21-69d1-45fc-9dc2-10ac6355dd06",
   "metadata": {},
   "source": [
    "**Exercise 2**\n",
    "We want the agents to be able to give and receive money. Let's adapt the step method in the `MoneyAgent` class so that it:\n",
    "1. first checks whether the agent has some wealth at all\n",
    "2. then chooses a random other agent\n",
    "3. and if there is another agent, increases its wealth by 1 and decreases its own wealth by 1\n",
    "\n",
    "The agent and model class have a built-in `random` module that we can use to add stochasticity. Use `self.random.choice(<list of agents>)` to pick a random agent from a list of agents, and `self.model.schedule.agents` to access a list of all agents\n",
    "\n",
    "Your code should look something like this :\n",
    "``` python\n",
    "if <condition>:\n",
    "    other_agent = <randomly pick agent>\n",
    "    if other_agent is not None:\n",
    "        self.wealth -= 1 # decrease own wealth with 1\n",
    "        <code to increase other agent's wealth with 1>\n",
    "```"
   ]
  },
  {
   "cell_type": "markdown",
   "id": "baa840d6-1fd1-4af2-bd1f-bd8b0cb1171e",
   "metadata": {},
   "source": [
    "If you haven't removed the print statement and run the model for a few steps, you will see the agents' wealth change. With the code below, we can visualize the results a bit better than with print statements"
   ]
  },
  {
   "cell_type": "code",
   "execution_count": null,
   "id": "c7dc2b4d-0c02-4871-b351-029637efda6e",
   "metadata": {},
   "outputs": [],
   "source": [
    "# # Run the model for 10 steps\n",
    "# model = MoneyModel(10)\n",
    "# for i in range(10):\n",
    "#     model.step()\n",
    "\n",
    "# # First, create a list of the wealth per active agent in the scheduler.\n",
    "# agent_wealth = [a.wealth for a in model.schedule.agents]\n",
    "\n",
    "# # Then, create a histogram with seaborn\n",
    "# g = sns.histplot(agent_wealth, discrete = True)\n",
    "# g.set(title = \"Wealth distribution\", \n",
    "#       xlabel = \"Wealth\", \n",
    "#       ylabel = \"Number of agents\"\n",
    "# );  # The semicolon is just to avoid printing the object representation"
   ]
  },
  {
   "cell_type": "markdown",
   "id": "80e40663-d825-4a46-8955-56bfb543a7fc",
   "metadata": {},
   "source": [
    "Your output will look different because of the stochasticity of the model, but wealth won't be evenly/uniformly distributed. We can get a better idea of how wealth is distributed by running the model 100 times, each time for 10 timesteps. This way, we smooth out some of the randomness of the model."
   ]
  },
  {
   "cell_type": "code",
   "execution_count": null,
   "id": "0c4c1580-8b5c-4cf2-8d20-35810bf56346",
   "metadata": {},
   "outputs": [],
   "source": [
    "# # Initialize a list of all agents' wealth\n",
    "# all_wealth = []\n",
    "\n",
    "# # This runs the model 100 times, each model executing 10 steps.\n",
    "# for j in range(100):\n",
    "#     # Run the model\n",
    "#     model = MoneyModel(10)\n",
    "#     for i in range(10):\n",
    "#         model.step()\n",
    "\n",
    "#     # Store the results in the all_wealth list\n",
    "#     for agent in model.schedule.agents:\n",
    "#         all_wealth.append(agent.wealth)\n",
    "\n",
    "# # Use seaborn to plot the results\n",
    "# g = sns.histplot(all_wealth, discrete=True)\n",
    "# g.set(title = \"Wealth distribution\", \n",
    "#       xlabel = \"Wealth\", \n",
    "#       ylabel = \"Number of agents\");"
   ]
  },
  {
   "cell_type": "markdown",
   "id": "f67ab853-1c96-452d-b4dd-6444a1189f45",
   "metadata": {},
   "source": [
    "As you can see, most agents will have 0 wealth, while the number of agents with more wealth gets smaller and smaller. So despite the fact that every agent only give and receive one unit of wealth per timestep, the model converges to a point where most agents have little and only some agents have a lot.\n",
    "\n",
    "We haven't added a spatial element yet, but note that this doesn't make this model any less \"agent-based\". There are agents interacting with each other according to simple rules, and an interesting pattern has emerged from this: an uneven distribution of wealth."
   ]
  },
  {
   "cell_type": "markdown",
   "id": "f18c9e7e-2608-4528-918b-dc560125e2af",
   "metadata": {},
   "source": [
    "**Exercise 3**\n",
    "Now let's add space to the model. In Mesa you have the option to add space in the form of a grid, or in the form of a continuous space. In grid space, agents can only be on a particular cell (patch in NetLogo). In continuous space, agents can be anywhere. Like in Netlogo, the world wraps around horizontally and vertically by default, so that each grid cell has the same number of neighbours.\n",
    "\n",
    "The two main types of grids are `SingleGrid` and `MultiGrid`. `SingleGrid` allows only one agent per cell, `MultiGrid` allows multiple.\n",
    "\n",
    "Go to your `MoneyModel` class and add a `self.grid` in the `__init__` method. Choose `MultiGrid` to allow multiple agents to occupy one cell, and let the world wrap around both sides with `torus = True`: `mesa.space.MultiGrid(width, height, torus = True)`. Don't forget to add the width and height parameters to the `__init__` method."
   ]
  },
  {
   "cell_type": "markdown",
   "id": "2400b317-f21a-4f6b-ac2e-b40d0fb27af5",
   "metadata": {},
   "source": [
    "**Exercise 4**\n",
    "Now we can use `self.grid` to place our agents at random locations. Note that in Mesa, the `(0, 0)` coordinates are in the bottom left corner. Just like we can use \"max-pxcor\" and \"max-pycor\" to find the maximum x and y coordinates in NetLogo, we can use `self.grid.width` and `self.grid.height` to find the maximum x and y coordinates in Mesa. We can use this to pick a random x and y variable from a range. Note that `random.randrange(n)` works the same as \"random-float n\" in NetLogo: it reports a random number 0 <= x < n.\n",
    "\n",
    "1. First declare a random x variable: `x = self.random.randrange(<maximum width>)`\n",
    "2. Then declare a random y variable: `y = self.random.randrange(<maximum height>)`\n",
    "3. Use `self.grid.place_agent(<agent>, <location>)` to place the agent at coordinates `(x, y)`"
   ]
  },
  {
   "cell_type": "markdown",
   "id": "050d5d7f-cb07-471f-85ce-64bab0be7abe",
   "metadata": {},
   "source": [
    "You could now run the model, but the grid and the agents' location in that grid do not affect their behaviour yet: they still trade with other random agents regardless of where they are located."
   ]
  },
  {
   "cell_type": "markdown",
   "id": "e25f8fea-6ff0-49ef-b26b-196a8fe28eea",
   "metadata": {},
   "source": [
    "**Exercise 5**\n",
    "Now that we have created space, we need to add to the agents' behaviour, to allow them to move through space,  and only let them give money to agents occupying the same cell. For this, we can create a `move` method in the `MoneyAgent` class\n",
    "\n",
    "We can define a new method with \n",
    "```python\n",
    "def move(self):\n",
    "    \n",
    "```\n",
    "just like the `step` and `__init__` method.\n",
    "\n",
    "In this move method, do the following:\n",
    "1. Define a list of possible steps an agent can take, using `self.model.grid.get_neighborhood(self.pos, moore = True, include_center = False)`\n",
    "2. Just like in the `MoneyAgent` `step` method we let the agents pick a random other agent from a list, now pick a random \"new_position\" from our list of possible steps\n",
    "3. Use `self.model.grid.move_agent(<agent>, <new_position>)` to move the agent to this random neighboring cell. You can use \"self\" to refer to the current agent that is executing this step."
   ]
  },
  {
   "cell_type": "markdown",
   "id": "0d002704-05f6-4158-8536-bf532b2a9be9",
   "metadata": {},
   "source": [
    "Mesa grid space has a built-in method `get_neighborhood`, which reports neighboring cells, and takes as input\n",
    "- The current agent position\n",
    "- Whether a neighborhood consists of 4 or 8 neighbors\n",
    "- Whether the current cell position is included: \n",
    "\n",
    "Like in NetLogo, you can choose whether to only include 4 neighbors (Moore), or all 8, also including the diagonal neighbors (Von Neumann). `Moore = True` means only 4 neighbors. An agent shouldn't be able to move to the cell it's already in, hence `include_center = False`. "
   ]
  },
  {
   "cell_type": "markdown",
   "id": "0b6d3007-a9c3-4569-8d16-5cce7c73b748",
   "metadata": {},
   "source": [
    "**Exercise 6**\n",
    "Similarly to exercise 5, now add a `MoneyAgent` method called `give_money`, which agents use to give money to a random agent occupying the same cell.\n",
    "\n",
    "In this method, do the following:\n",
    "1. Use `self.model.grid.get_cell_list_contents(<current position>)` to define a list of \"cellmates\"\n",
    "2. Remove `self` from list of cellmates, so an agent cannot give money to itself: `cellmates.pop(cellmates.index(self))`\n",
    "3. Check if there are any other cellmates using `len(cellmates)`\n",
    "4. and if so, pick a random other cellmate in the same way we picked a random other agent in the `MoneyAgent` step method, using `self.random.choice`\n",
    "5. Increase the wealth of the random other cellmate with 1, and decrease the agent's own wealth with 1"
   ]
  },
  {
   "cell_type": "markdown",
   "id": "e33bea36-c78c-44e1-bc58-43ccd9086b96",
   "metadata": {},
   "source": [
    "The method `get_cell_list_contents` takes as input the agent's position, and returns a list of agents occupying that cell. From that list, a random agent is then chosen to give wealth to. Note that wealth can only be given to another agent if there is one, hence checking if `len(cellmates)` is bigger than 1."
   ]
  },
  {
   "cell_type": "markdown",
   "id": "ce11a6bb-4d03-42a6-a2eb-d8e08190a592",
   "metadata": {},
   "source": [
    "**Exercise 7**\n",
    "Finally, we need to update the `MoneyAgent`'s `step` method so that it uses the `move` and `give_money` methods we just created. At every timestep, an agent should move, and if it has any wealth, it should give it to one of its cellmates.\n",
    "\n",
    "Adapt the `MoneyAgent` `step` method as follows:\n",
    "1. Use `self.move()` to execute the `MoneyAgent` `move` method we have just defined\n",
    "2. Check if the agent's wealth is larger than 0,\n",
    "3. and if so, use `self.give_money()` to execute the give_money method we have just defined"
   ]
  },
  {
   "cell_type": "markdown",
   "id": "b9d6b9e0-6468-4671-8362-418086ae15dc",
   "metadata": {},
   "source": [
    "**Exercise 8**\n",
    "Just to see if everything is working, create a model with 100 agents on a 10x10 grid and run it for 20 steps. You can adapt the code we have used earlier to run the model.\n",
    "\n",
    "Note that `MoneyModel` now takes 3 inputs instead of 1: number of agents, width, and height."
   ]
  },
  {
   "cell_type": "markdown",
   "id": "dc118d77-f921-4e7f-921b-38cc14d362ef",
   "metadata": {},
   "source": [
    "We could now run the model 100 times again, and plot the wealth distributions in a histogram like before. The problem is that this isn't very efficient, and only gives us the result at the end of the model runs. If we want to know the wealth of each agent at each timestep, \n",
    "we can use the built-in `DataCollector`.\n",
    "\n",
    "The Mesa `DataCollector` can store data at both the agent level and the model level. At the agent level, we want to collect the wealth at each timestep. At the model level, we might be interested in the model's `Gini coefficient`, which is a measure of wealth inequality. We can define a function that calculates this coefficient for us.\n",
    "\n",
    "Don't worry too much about how it is calculated. It reports a number between 0 and 1 (or a percentage), with 0 meaning a uniform distribution of wealth, and 1 meaning that one single person has all the wealth, while the rest has zero wealth."
   ]
  },
  {
   "cell_type": "code",
   "execution_count": null,
   "id": "2c6743f8-9ad7-4be4-bad6-59dce068fef1",
   "metadata": {},
   "outputs": [],
   "source": [
    "# Run this block of code to define a function that calculates the gini coefficient of a model\n",
    "def compute_gini(model):\n",
    "    agent_wealths = [agent.wealth for agent in model.schedule.agents]\n",
    "    x = sorted(agent_wealths)\n",
    "    N = model.num_agents\n",
    "    B = sum(xi * (N - i) for i, xi in enumerate(x)) / (N * sum(x))\n",
    "    return 1 + (1 / N) - 2 * B"
   ]
  },
  {
   "cell_type": "markdown",
   "id": "45f919fb-9e34-46b6-bc05-0ce53beaa14f",
   "metadata": {},
   "source": [
    "**Exercise 9**\n",
    "1. Now add a datacollector to the `__init__` method of the `MoneyModel` class, using:\n",
    "```python\n",
    "self.datacollector = mesa.DataCollector(\n",
    "    model_reporters = {\"Gini\": compute_gini}, \n",
    "    agent_reporters = {\"Wealth\": \"wealth\"}\n",
    ")\n",
    "```\n",
    "2. Also add `self.datacollector.collect(self)` to `MoneyModel`'s `step` method, so data is collected at each step.\n",
    "3. Finally, create a model with 100 agents on a 10x10 grid and run it for 20 steps, so we can analyze the results."
   ]
  },
  {
   "cell_type": "markdown",
   "id": "15f0f2dc-cb73-4463-90c2-164f896efd18",
   "metadata": {},
   "source": [
    "Mesa works with the Python package called `pandas`, which is a data analysis and manipulation tool, similar to dplyr/tidyverse in R.\n",
    "\n",
    "We now plot the gini coefficient over time, and the wealth distribution at the end of the model run, with the data we collected using the Mesa `Datacollector`."
   ]
  },
  {
   "cell_type": "code",
   "execution_count": null,
   "id": "98788edb-9afb-4a22-afd1-e40d41662caf",
   "metadata": {},
   "outputs": [
    {
     "name": "stderr",
     "output_type": "stream",
     "text": [
      "C:\\Users\\garin\\AppData\\Roaming\\Python\\Python311\\site-packages\\mesa\\time.py:82: FutureWarning: The AgentSet is experimental. It may be changed or removed in any and all future releases, including patch releases.\n",
      "We would love to hear what you think about this new feature. If you have any thoughts, share them with us here: https://github.com/projectmesa/mesa/discussions/1919\n",
      "  self._agents: AgentSet = AgentSet(agents, model)\n"
     ]
    },
    {
     "data": {
      "image/png": "[encoded data removed]",
      "text/plain": [
       "<Figure size 640x480 with 1 Axes>"
      ]
     },
     "metadata": {},
     "output_type": "display_data"
    }
   ],
   "source": [
    "# Save the collected model variables (the gini coefficient)\n",
    "model = MoneyModel(100,10,10)\n",
    "for i in range(100):\n",
    "    model.step()\n",
    "gini = model.datacollector.get_model_vars_dataframe()\n",
    "# Plot the Gini coefficient over time\n",
    "g = sns.lineplot(data = gini)\n",
    "g.set(title = \"Gini Coefficient over Time\", \n",
    "      ylabel = \"Gini Coefficient\");\n",
    "\n",
    "# As you will see, inequality increases over time and then levels off."
   ]
  },
  {
   "cell_type": "code",
   "execution_count": null,
   "id": "e9102723-527f-44f7-a96b-490fdb1bb2ab",
   "metadata": {},
   "outputs": [
    {
     "data": {
      "image/png": "[encoded data removed]",
      "text/plain": [
       "<Figure size 640x480 with 1 Axes>"
      ]
     },
     "metadata": {},
     "output_type": "display_data"
    }
   ],
   "source": [
    "# We can also plot the distribution of wealth at the end of the simulation.\n",
    "\n",
    "# Save the collected agent variables (the agent wealth)\n",
    "agent_wealth = model.datacollector.get_agent_vars_dataframe()\n",
    "\n",
    "# Get the wealth at the last timestep and plot it in a histogram\n",
    "last_step = agent_wealth.index.get_level_values(\"Step\").max()\n",
    "end_wealth = agent_wealth.xs(last_step, level = \"Step\")[\"Wealth\"]\n",
    "\n",
    "# Create a histogram of wealth at the last step\n",
    "g = sns.histplot(end_wealth, discrete = True)\n",
    "g.set(\n",
    "    title = \"Distribution of wealth at the end of simulation\",\n",
    "    xlabel = \"Wealth\",\n",
    "    ylabel = \"Number of agents\",\n",
    ");"
   ]
  },
  {
   "cell_type": "markdown",
   "id": "3e27084e-7f5e-4024-9acf-dcafc8245fda",
   "metadata": {},
   "source": [
    "We can see now that visualization of your model can mean different things. In NetLogo, the World in the interface is always shown, which might make you think that it is a necessity to visualize your agents like that. But if the only output we want to analyze is the wealth distribution at the end of the model run, we might not care about the intermediate positions of agents or what that looks like visually. These positions are in the end just coordinates, which can be expressed in numbers.\n",
    "\n",
    "Of course, visualization will greatly increase your and other people's understanding of the model and can help you find bugs in your agent behaviour. Because NetLogo makes visualization so quick and easy, I would recommend it if you have little time (like in this course), or if you just want to explore an idea.\n",
    "\n",
    "Nevertheless, below are three ways to visualize the Boltzmann wealth distribution model."
   ]
  },
  {
   "cell_type": "markdown",
   "id": "f63ccd8d-2a1d-439d-89db-f223ce66b87f",
   "metadata": {},
   "source": [
    "### Visualization 1\n",
    "One way to visualize this model is by plotting each grid cell and its corresponding number of agents."
   ]
  },
  {
   "cell_type": "code",
   "execution_count": null,
   "id": "6dd404c3-a3ae-4465-a3e9-c92dc3437976",
   "metadata": {},
   "outputs": [
    {
     "data": {
      "image/png": "[encoded data removed]",
      "text/plain": [
       "<Figure size 400x400 with 1 Axes>"
      ]
     },
     "metadata": {},
     "output_type": "display_data"
    }
   ],
   "source": [
    "# Initialize a matrix, with each position corresponding to a cell on the grid\n",
    "agent_counts = np.zeros((model.grid.width, model.grid.height))\n",
    "\n",
    "# model.grid.coord_iter() returns cell contents and cell position\n",
    "# Per cell...\n",
    "for cell_content, (x, y) in model.grid.coord_iter():\n",
    "    # ... count the agents on the cell\n",
    "    agent_count = len(cell_content)\n",
    "    # ... add that count to the corresponding position in our matrix\n",
    "    agent_counts[x][y] = agent_count\n",
    "    \n",
    "# Plot using seaborn, with a size of 5x5\n",
    "g = sns.heatmap(agent_counts, \n",
    "                cmap = \"viridis\",    # determines color gradient  \n",
    "                annot = True,        # adds annotation to each cell\n",
    "                cbar = False,        # removes color legend\n",
    "                square = True)\n",
    "g.figure.set_size_inches(4, 4)\n",
    "g.set(title = \"Number of agents on each cell of the grid\");"
   ]
  },
  {
   "cell_type": "markdown",
   "id": "f119ba5a-bea7-4d0e-98fb-e53b7bd115e7",
   "metadata": {},
   "source": [
    "### Visualization 2\n",
    "We could create the above plot for each timestep and compare the results, but it would be more convenient to have a dynamically updating world, just like in NetLogo. To do that, we can use the `matplotlib` package."
   ]
  },
  {
   "cell_type": "code",
   "execution_count": null,
   "id": "e31293d7-fde3-487e-b0f3-31edd3b0c0ae",
   "metadata": {},
   "outputs": [
    {
     "data": {
      "application/vnd.jupyter.widget-view+json": {
       "model_id": "64d204e47d194d8392e0f66a8ee6435a",
       "version_major": 2,
       "version_minor": 0
      },
      "text/html": [
       "Cannot show widget. You probably want to rerun the code cell above (<i>Click in the code cell, and press Shift+Enter <kbd>⇧</kbd>+<kbd>↩</kbd></i>)."
      ],
      "text/plain": [
       "Cannot show ipywidgets in text"
      ]
     },
     "metadata": {},
     "output_type": "display_data"
    },
    {
     "name": "stdout",
     "output_type": "stream",
     "text": [
      "{\"type\":\"get_step\",\"step\":4}\n",
      "{\"type\":\"get_step\",\"step\":5}\n",
      "{\"type\":\"get_step\",\"step\":6}\n"
     ]
    }
   ],
   "source": [
    "# We first need to define an agent portrayal, \n",
    "# using a type of object called a dictionary (also used in the mesa datacollector!)\n",
    "def agent_portrayal(agent):\n",
    "    return {\n",
    "        \"color\": \"blue\",\n",
    "        \"size\": 50,\n",
    "    }\n",
    "\n",
    "# Next, we choose initial values for our model parameters,\n",
    "# as well as methods to change them.\n",
    "# In NetLogo, you would add sliders to the interface.\n",
    "model_params = {\n",
    "    \"N\": {\n",
    "        \"type\": \"SliderInt\",\n",
    "        \"value\": 50,\n",
    "        \"label\": \"Number of agents:\",\n",
    "        \"min\": 10,\n",
    "        \"max\": 100,\n",
    "        \"step\": 1,\n",
    "    },\n",
    "    \"width\": 10,\n",
    "    \"height\": 10,\n",
    "}\n",
    "\n",
    "# Then, we use JupyterViz to visualize our model dynamically,\n",
    "# with the agent portrayal and model parameters we just defined\n",
    "page = JupyterViz(\n",
    "    MoneyModel,\n",
    "    model_params,\n",
    "    measures = [\"Gini\"],\n",
    "    name = \"Money Model\",\n",
    "    agent_portrayal = agent_portrayal,\n",
    ")\n",
    "\n",
    "# run the visualization\n",
    "page"
   ]
  },
  {
   "cell_type": "markdown",
   "id": "8e4c8dc3-6823-4136-bc8f-1bfe138e5e86",
   "metadata": {},
   "source": [
    "**Exercise 10**\n",
    "Change the model parameters so that width and height are also changeable sliders, and see if there is any effect on the gini coefficient if you change width and height."
   ]
  },
  {
   "cell_type": "markdown",
   "id": "eaea6558-e70d-4cce-aff9-e763b8a60686",
   "metadata": {},
   "source": [
    "**Exercise 11**\n",
    "Now, we can't see any differences between our agents, but we can use an if-statement in the `agent_portrayal` to draw broke agents as red.\n",
    "\n",
    "Adapt the `agent_portrayal` so that\n",
    "1. If an agent has no wealth, its size is 10 and its color is red\n",
    "2. If an agent has any wealth, its size is 50 and its color blue"
   ]
  },
  {
   "cell_type": "markdown",
   "id": "9c5d2287-52b1-4976-81ff-01ec68066e91",
   "metadata": {},
   "source": [
    "### Visualization 3\n",
    "Another way to visualize your Mesa model is with JavaScript, but this is a bit too much to explain for this tutorial. If you already know Python and how to make plots, the method explained above is more versatile and easier to use.\n",
    "\n",
    "The code below might throw some errors if you run it in a Jupyter notebook."
   ]
  },
  {
   "cell_type": "code",
   "execution_count": null,
   "id": "9d7ccb52-d04f-4078-898b-5782ecbcac18",
   "metadata": {},
   "outputs": [
    {
     "ename": "NameError",
     "evalue": "name 'mesa' is not defined",
     "output_type": "error",
     "traceback": [
      "\u001b[1;31m---------------------------------------------------------------------------\u001b[0m",
      "\u001b[1;31mNameError\u001b[0m                                 Traceback (most recent call last)",
      "Cell \u001b[1;32mIn[1], line 19\u001b[0m\n\u001b[0;32m     15\u001b[0m         portrayal[\u001b[38;5;124m\"\u001b[39m\u001b[38;5;124mr\u001b[39m\u001b[38;5;124m\"\u001b[39m] \u001b[38;5;241m=\u001b[39m \u001b[38;5;241m1\u001b[39m\n\u001b[0;32m     16\u001b[0m     \u001b[38;5;28;01mreturn\u001b[39;00m portrayal\n\u001b[1;32m---> 19\u001b[0m grid \u001b[38;5;241m=\u001b[39m mesa\u001b[38;5;241m.\u001b[39mvisualization\u001b[38;5;241m.\u001b[39mCanvasGrid(agent_portrayal, \u001b[38;5;241m10\u001b[39m, \u001b[38;5;241m10\u001b[39m, \u001b[38;5;241m500\u001b[39m, \u001b[38;5;241m500\u001b[39m)\n\u001b[0;32m     20\u001b[0m chart \u001b[38;5;241m=\u001b[39m mesa\u001b[38;5;241m.\u001b[39mvisualization\u001b[38;5;241m.\u001b[39mChartModule(\n\u001b[0;32m     21\u001b[0m     [{\u001b[38;5;124m\"\u001b[39m\u001b[38;5;124mLabel\u001b[39m\u001b[38;5;124m\"\u001b[39m: \u001b[38;5;124m\"\u001b[39m\u001b[38;5;124mGini\u001b[39m\u001b[38;5;124m\"\u001b[39m, \u001b[38;5;124m\"\u001b[39m\u001b[38;5;124mColor\u001b[39m\u001b[38;5;124m\"\u001b[39m: \u001b[38;5;124m\"\u001b[39m\u001b[38;5;124mBlack\u001b[39m\u001b[38;5;124m\"\u001b[39m}], data_collector_name\u001b[38;5;241m=\u001b[39m\u001b[38;5;124m\"\u001b[39m\u001b[38;5;124mdatacollector\u001b[39m\u001b[38;5;124m\"\u001b[39m\n\u001b[0;32m     22\u001b[0m )\n\u001b[0;32m     24\u001b[0m server \u001b[38;5;241m=\u001b[39m mesa\u001b[38;5;241m.\u001b[39mvisualization\u001b[38;5;241m.\u001b[39mModularServer(\n\u001b[0;32m     25\u001b[0m     MoneyModel, [grid, chart], \u001b[38;5;124m\"\u001b[39m\u001b[38;5;124mMoney Model\u001b[39m\u001b[38;5;124m\"\u001b[39m, {\u001b[38;5;124m\"\u001b[39m\u001b[38;5;124mN\u001b[39m\u001b[38;5;124m\"\u001b[39m: \u001b[38;5;241m100\u001b[39m, \u001b[38;5;124m\"\u001b[39m\u001b[38;5;124mwidth\u001b[39m\u001b[38;5;124m\"\u001b[39m: \u001b[38;5;241m10\u001b[39m, \u001b[38;5;124m\"\u001b[39m\u001b[38;5;124mheight\u001b[39m\u001b[38;5;124m\"\u001b[39m: \u001b[38;5;241m10\u001b[39m}\n\u001b[0;32m     26\u001b[0m )\n",
      "\u001b[1;31mNameError\u001b[0m: name 'mesa' is not defined"
     ]
    }
   ],
   "source": [
    "def agent_portrayal(agent):\n",
    "    portrayal = {\"Shape\": \"circle\", \"Filled\": \"true\", \"r\": 0.5}\n",
    "\n",
    "    if agent.wealth == 0:\n",
    "            portrayal[\"Color\"] = \"grey\"\n",
    "            portrayal[\"Layer\"] = 2\n",
    "            portrayal[\"r\"] = 0.2\n",
    "    elif agent.wealth > 0 and agent.wealth <= 3:\n",
    "        portrayal[\"Color\"] = \"yellow\"\n",
    "        portrayal[\"Layer\"] = 1\n",
    "        portrayal[\"r\"] = 0.5\n",
    "    else :\n",
    "        portrayal[\"Color\"] = \"red\"\n",
    "        portrayal[\"Layer\"] = 0\n",
    "        portrayal[\"r\"] = 1\n",
    "    return portrayal\n",
    "\n",
    "\n",
    "grid = mesa.visualization.CanvasGrid(agent_portrayal, 10, 10, 500, 500)\n",
    "chart = mesa.visualization.ChartModule(\n",
    "    [{\"Label\": \"Gini\", \"Color\": \"Black\"}], data_collector_name=\"datacollector\"\n",
    ")\n",
    "\n",
    "server = mesa.visualization.ModularServer(\n",
    "    MoneyModel, [grid, chart], \"Money Model\", {\"N\": 100, \"width\": 10, \"height\": 10}\n",
    ")\n",
    "server.port = 8510 # change port number if it gives an error\n",
    "server.launch()\n",
    "\n"
   ]
  }
 ],
 "metadata": {
  "kernelspec": {
   "display_name": "Python 3 (ipykernel)",
   "language": "python",
   "name": "python3"
  },
  "language_info": {
   "codemirror_mode": {
    "name": "ipython",
    "version": 3
   },
   "file_extension": ".py",
   "mimetype": "text/x-python",
   "name": "python",
   "nbconvert_exporter": "python",
   "pygments_lexer": "ipython3",
   "version": "3.12.2"
  }
 },
 "nbformat": 4,
 "nbformat_minor": 5
}
